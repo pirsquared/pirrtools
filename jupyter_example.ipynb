{
 "cells": [
  {
   "cell_type": "markdown",
   "metadata": {},
   "source": [
    "# Pirrtools Interactive Tutorial\n",
    "\n",
    "This notebook demonstrates the key features of the pirrtools library with interactive examples."
   ]
  },
  {
   "cell_type": "code",
   "execution_count": 1,
   "metadata": {
    "execution": {
     "iopub.execute_input": "2025-07-30T13:52:42.033609Z",
     "iopub.status.busy": "2025-07-30T13:52:42.033370Z",
     "iopub.status.idle": "2025-07-30T13:52:42.658584Z",
     "shell.execute_reply": "2025-07-30T13:52:42.658024Z"
    }
   },
   "outputs": [],
   "source": [
    "import pandas as pd\n",
    "import pirrtools\n",
    "from pirrtools.structures import AttrDict, AttrPath"
   ]
  },
  {
   "cell_type": "markdown",
   "metadata": {},
   "source": [
    "## Pandas Caching with Pirrtools\n",
    "\n",
    "The core feature of pirrtools is pandas DataFrame caching using the feather format."
   ]
  },
  {
   "cell_type": "code",
   "execution_count": 2,
   "metadata": {
    "execution": {
     "iopub.execute_input": "2025-07-30T13:52:42.660779Z",
     "iopub.status.busy": "2025-07-30T13:52:42.660531Z",
     "iopub.status.idle": "2025-07-30T13:52:42.671273Z",
     "shell.execute_reply": "2025-07-30T13:52:42.670655Z"
    }
   },
   "outputs": [
    {
     "name": "stdout",
     "output_type": "stream",
     "text": [
      "Sample DataFrame:\n"
     ]
    },
    {
     "data": {
      "text/html": [
       "<div>\n",
       "<style scoped>\n",
       "    .dataframe tbody tr th:only-of-type {\n",
       "        vertical-align: middle;\n",
       "    }\n",
       "\n",
       "    .dataframe tbody tr th {\n",
       "        vertical-align: top;\n",
       "    }\n",
       "\n",
       "    .dataframe thead th {\n",
       "        text-align: right;\n",
       "    }\n",
       "</style>\n",
       "<table border=\"1\" class=\"dataframe\">\n",
       "  <thead>\n",
       "    <tr style=\"text-align: right;\">\n",
       "      <th></th>\n",
       "      <th>product</th>\n",
       "      <th>sales</th>\n",
       "      <th>region</th>\n",
       "    </tr>\n",
       "  </thead>\n",
       "  <tbody>\n",
       "    <tr>\n",
       "      <th>0</th>\n",
       "      <td>A</td>\n",
       "      <td>100</td>\n",
       "      <td>North</td>\n",
       "    </tr>\n",
       "    <tr>\n",
       "      <th>1</th>\n",
       "      <td>B</td>\n",
       "      <td>150</td>\n",
       "      <td>South</td>\n",
       "    </tr>\n",
       "    <tr>\n",
       "      <th>2</th>\n",
       "      <td>C</td>\n",
       "      <td>200</td>\n",
       "      <td>East</td>\n",
       "    </tr>\n",
       "    <tr>\n",
       "      <th>3</th>\n",
       "      <td>D</td>\n",
       "      <td>120</td>\n",
       "      <td>West</td>\n",
       "    </tr>\n",
       "    <tr>\n",
       "      <th>4</th>\n",
       "      <td>E</td>\n",
       "      <td>180</td>\n",
       "      <td>Central</td>\n",
       "    </tr>\n",
       "  </tbody>\n",
       "</table>\n",
       "</div>"
      ],
      "text/plain": [
       "  product  sales   region\n",
       "0       A    100    North\n",
       "1       B    150    South\n",
       "2       C    200     East\n",
       "3       D    120     West\n",
       "4       E    180  Central"
      ]
     },
     "execution_count": 2,
     "metadata": {},
     "output_type": "execute_result"
    }
   ],
   "source": [
    "# Create a sample DataFrame\n",
    "df = pd.DataFrame({\n",
    "    'product': ['A', 'B', 'C', 'D', 'E'],\n",
    "    'sales': [100, 150, 200, 120, 180],\n",
    "    'region': ['North', 'South', 'East', 'West', 'Central']\n",
    "})\n",
    "\n",
    "print(\"Sample DataFrame:\")\n",
    "df"
   ]
  },
  {
   "cell_type": "code",
   "execution_count": 3,
   "metadata": {
    "execution": {
     "iopub.execute_input": "2025-07-30T13:52:42.708734Z",
     "iopub.status.busy": "2025-07-30T13:52:42.708505Z",
     "iopub.status.idle": "2025-07-30T13:52:42.719420Z",
     "shell.execute_reply": "2025-07-30T13:52:42.718802Z"
    }
   },
   "outputs": [
    {
     "name": "stdout",
     "output_type": "stream",
     "text": [
      "DataFrame cached to: /tmp/sample_data.feather\n"
     ]
    }
   ],
   "source": [
    "# Use the pirr accessor for caching\n",
    "# This will save the DataFrame to cache and allow quick reloading\n",
    "cache_path = '/tmp/sample_data.feather'\n",
    "df.pirr.to_cache(cache_path, overwrite=True)\n",
    "print(f\"DataFrame cached to: {cache_path}\")"
   ]
  },
  {
   "cell_type": "markdown",
   "metadata": {},
   "source": [
    "## AttrPath - Attribute-based File Navigation\n",
    "\n",
    "Navigate the file system using dot notation with intelligent file viewing."
   ]
  },
  {
   "cell_type": "code",
   "execution_count": 4,
   "metadata": {
    "execution": {
     "iopub.execute_input": "2025-07-30T13:52:42.721192Z",
     "iopub.status.busy": "2025-07-30T13:52:42.721022Z",
     "iopub.status.idle": "2025-07-30T13:52:42.725177Z",
     "shell.execute_reply": "2025-07-30T13:52:42.724594Z"
    }
   },
   "outputs": [
    {
     "name": "stdout",
     "output_type": "stream",
     "text": [
      "Workspace path: /workspace\n",
      "Is directory: False\n"
     ]
    }
   ],
   "source": [
    "# Navigate to workspace directory\n",
    "workspace = AttrPath('/workspace')\n",
    "print(f\"Workspace path: {workspace}\")\n",
    "print(f\"Is directory: {workspace.is_dir()}\")\n",
    "\n",
    "# List some contents\n",
    "if hasattr(workspace, 'D'):\n",
    "    print(f\"\\nDirectories available: {list(workspace.D.__dict__.keys())[:5]}\")\n",
    "if hasattr(workspace, 'F'):\n",
    "    print(f\"Files available: {list(workspace.F.__dict__.keys())[:5]}\")"
   ]
  },
  {
   "cell_type": "markdown",
   "metadata": {},
   "source": [
    "## AttrDict - Dictionary with Attribute Access\n",
    "\n",
    "Access dictionary values using dot notation."
   ]
  },
  {
   "cell_type": "code",
   "execution_count": 5,
   "metadata": {
    "execution": {
     "iopub.execute_input": "2025-07-30T13:52:42.726851Z",
     "iopub.status.busy": "2025-07-30T13:52:42.726685Z",
     "iopub.status.idle": "2025-07-30T13:52:42.731153Z",
     "shell.execute_reply": "2025-07-30T13:52:42.730530Z"
    }
   },
   "outputs": [
    {
     "name": "stdout",
     "output_type": "stream",
     "text": [
      "Database host: localhost\n",
      "Database port: 5432\n",
      "Debug mode: True\n",
      "Available features: ['caching', 'logging', 'monitoring']\n"
     ]
    }
   ],
   "source": [
    "# Create an AttrDict\n",
    "config = AttrDict({\n",
    "    'database': {\n",
    "        'host': 'localhost',\n",
    "        'port': 5432,\n",
    "        'name': 'mydb'\n",
    "    },\n",
    "    'debug': True,\n",
    "    'features': ['caching', 'logging', 'monitoring']\n",
    "})\n",
    "\n",
    "print(f\"Database host: {config.database.host}\")\n",
    "print(f\"Database port: {config.database.port}\")\n",
    "print(f\"Debug mode: {config.debug}\")\n",
    "print(f\"Available features: {config.features}\")"
   ]
  }
 ],
 "metadata": {
  "kernelspec": {
   "display_name": "Python 3",
   "language": "python",
   "name": "python3"
  },
  "language_info": {
   "codemirror_mode": {
    "name": "ipython",
    "version": 3
   },
   "file_extension": ".py",
   "mimetype": "text/x-python",
   "name": "python",
   "nbconvert_exporter": "python",
   "pygments_lexer": "ipython3",
   "version": "3.11.13"
  }
 },
 "nbformat": 4,
 "nbformat_minor": 4
}
