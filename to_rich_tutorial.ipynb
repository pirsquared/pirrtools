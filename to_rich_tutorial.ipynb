{
 "cells": [
  {
   "cell_type": "markdown",
   "metadata": {},
   "source": [
    "# Pirrtools to_rich Tutorial\n",
    "\n",
    "This notebook demonstrates all features of the `to_rich` method for creating beautiful Rich tables from pandas DataFrames and Series.\n",
    "\n",
    "## Setup\n",
    "\n",
    "First, let's import the required libraries and create sample data:"
   ]
  },
  {
   "cell_type": "code",
   "execution_count": 1,
   "metadata": {
    "execution": {
     "iopub.execute_input": "2025-07-30T13:52:44.677180Z",
     "iopub.status.busy": "2025-07-30T13:52:44.677010Z",
     "iopub.status.idle": "2025-07-30T13:52:45.310176Z",
     "shell.execute_reply": "2025-07-30T13:52:45.309535Z"
    }
   },
   "outputs": [
    {
     "name": "stdout",
     "output_type": "stream",
     "text": [
      "Sample DataFrame:\n"
     ]
    },
    {
     "data": {
      "text/html": [
       "<div>\n",
       "<style scoped>\n",
       "    .dataframe tbody tr th:only-of-type {\n",
       "        vertical-align: middle;\n",
       "    }\n",
       "\n",
       "    .dataframe tbody tr th {\n",
       "        vertical-align: top;\n",
       "    }\n",
       "\n",
       "    .dataframe thead th {\n",
       "        text-align: right;\n",
       "    }\n",
       "</style>\n",
       "<table border=\"1\" class=\"dataframe\">\n",
       "  <thead>\n",
       "    <tr style=\"text-align: right;\">\n",
       "      <th></th>\n",
       "      <th>Q1</th>\n",
       "      <th>Q2</th>\n",
       "      <th>Q3</th>\n",
       "      <th>Q4</th>\n",
       "    </tr>\n",
       "  </thead>\n",
       "  <tbody>\n",
       "    <tr>\n",
       "      <th>Product A</th>\n",
       "      <td>100.123</td>\n",
       "      <td>120.50</td>\n",
       "      <td>140.0</td>\n",
       "      <td>160.555</td>\n",
       "    </tr>\n",
       "    <tr>\n",
       "      <th>Product B</th>\n",
       "      <td>150.456</td>\n",
       "      <td>180.75</td>\n",
       "      <td>200.0</td>\n",
       "      <td>170.333</td>\n",
       "    </tr>\n",
       "    <tr>\n",
       "      <th>Product C</th>\n",
       "      <td>200.789</td>\n",
       "      <td>220.25</td>\n",
       "      <td>180.0</td>\n",
       "      <td>240.111</td>\n",
       "    </tr>\n",
       "  </tbody>\n",
       "</table>\n",
       "</div>"
      ],
      "text/plain": [
       "                Q1      Q2     Q3       Q4\n",
       "Product A  100.123  120.50  140.0  160.555\n",
       "Product B  150.456  180.75  200.0  170.333\n",
       "Product C  200.789  220.25  180.0  240.111"
      ]
     },
     "execution_count": 1,
     "metadata": {},
     "output_type": "execute_result"
    }
   ],
   "source": [
    "import pandas as pd\n",
    "import pirrtools\n",
    "from rich.console import Console\n",
    "from rich import box\n",
    "import numpy as np\n",
    "\n",
    "# Create console for output\n",
    "console = Console()\n",
    "\n",
    "# Create sample DataFrame\n",
    "df = pd.DataFrame({\n",
    "    'Q1': [100.123, 150.456, 200.789],\n",
    "    'Q2': [120.50, 180.75, 220.25], \n",
    "    'Q3': [140.0, 200.0, 180.0],\n",
    "    'Q4': [160.555, 170.333, 240.111]\n",
    "}, index=['Product A', 'Product B', 'Product C'])\n",
    "\n",
    "print(\"Sample DataFrame:\")\n",
    "df"
   ]
  },
  {
   "cell_type": "markdown",
   "metadata": {},
   "source": [
    "## Basic Usage\n",
    "\n",
    "The simplest way to create a Rich table:"
   ]
  },
  {
   "cell_type": "code",
   "execution_count": 2,
   "metadata": {
    "execution": {
     "iopub.execute_input": "2025-07-30T13:52:45.312003Z",
     "iopub.status.busy": "2025-07-30T13:52:45.311749Z",
     "iopub.status.idle": "2025-07-30T13:52:45.318852Z",
     "shell.execute_reply": "2025-07-30T13:52:45.318258Z"
    }
   },
   "outputs": [
    {
     "data": {
      "text/html": [
       "<pre style=\"white-space:pre;overflow-x:auto;line-height:normal;font-family:Menlo,'DejaVu Sans Mono',consolas,'Courier New',monospace\"><span style=\"font-style: italic\">                 Basic Rich Table                 </span>\n",
       "╭───────────┬─────────┬────────┬───────┬─────────╮\n",
       "│<span style=\"color: #7f7f7f; text-decoration-color: #7f7f7f; font-weight: bold\"> Index     </span>│<span style=\"font-weight: bold\"> Q1      </span>│<span style=\"font-weight: bold\"> Q2     </span>│<span style=\"font-weight: bold\"> Q3    </span>│<span style=\"font-weight: bold\"> Q4      </span>│\n",
       "├───────────┼─────────┼────────┼───────┼─────────┤\n",
       "│<span style=\"color: #7f7f7f; text-decoration-color: #7f7f7f\"> Product A </span>│ 100.123 │ 120.5  │ 140.0 │ 160.555 │\n",
       "│<span style=\"color: #7f7f7f; text-decoration-color: #7f7f7f\"> Product B </span>│ 150.456 │ 180.75 │ 200.0 │ 170.333 │\n",
       "│<span style=\"color: #7f7f7f; text-decoration-color: #7f7f7f\"> Product C </span>│ 200.789 │ 220.25 │ 180.0 │ 240.111 │\n",
       "╰───────────┴─────────┴────────┴───────┴─────────╯\n",
       "</pre>\n"
      ],
      "text/plain": [
       "\u001b[3m                 Basic Rich Table                 \u001b[0m\n",
       "╭───────────┬─────────┬────────┬───────┬─────────╮\n",
       "│\u001b[1;2m \u001b[0m\u001b[1;2mIndex    \u001b[0m\u001b[1;2m \u001b[0m│\u001b[1m \u001b[0m\u001b[1mQ1     \u001b[0m\u001b[1m \u001b[0m│\u001b[1m \u001b[0m\u001b[1mQ2    \u001b[0m\u001b[1m \u001b[0m│\u001b[1m \u001b[0m\u001b[1mQ3   \u001b[0m\u001b[1m \u001b[0m│\u001b[1m \u001b[0m\u001b[1mQ4     \u001b[0m\u001b[1m \u001b[0m│\n",
       "├───────────┼─────────┼────────┼───────┼─────────┤\n",
       "│\u001b[2m \u001b[0m\u001b[2mProduct A\u001b[0m\u001b[2m \u001b[0m│ 100.123 │ 120.5  │ 140.0 │ 160.555 │\n",
       "│\u001b[2m \u001b[0m\u001b[2mProduct B\u001b[0m\u001b[2m \u001b[0m│ 150.456 │ 180.75 │ 200.0 │ 170.333 │\n",
       "│\u001b[2m \u001b[0m\u001b[2mProduct C\u001b[0m\u001b[2m \u001b[0m│ 200.789 │ 220.25 │ 180.0 │ 240.111 │\n",
       "╰───────────┴─────────┴────────┴───────┴─────────╯\n"
      ]
     },
     "metadata": {},
     "output_type": "display_data"
    }
   ],
   "source": [
    "# Basic conversion\n",
    "table = df.pirr.to_rich(title=\"Basic Rich Table\")\n",
    "console.print(table)"
   ]
  },
  {
   "cell_type": "markdown",
   "metadata": {},
   "source": [
    "## Background Gradients\n",
    "\n",
    "Apply color gradients to highlight data patterns:"
   ]
  },
  {
   "cell_type": "code",
   "execution_count": 3,
   "metadata": {
    "execution": {
     "iopub.execute_input": "2025-07-30T13:52:45.320525Z",
     "iopub.status.busy": "2025-07-30T13:52:45.320353Z",
     "iopub.status.idle": "2025-07-30T13:52:45.370587Z",
     "shell.execute_reply": "2025-07-30T13:52:45.370092Z"
    }
   },
   "outputs": [
    {
     "data": {
      "text/html": [
       "<pre style=\"white-space:pre;overflow-x:auto;line-height:normal;font-family:Menlo,'DejaVu Sans Mono',consolas,'Courier New',monospace\"><span style=\"font-style: italic\">       📊 Background Gradient (Viridis)        </span>\n",
       "╭─────────┬────────┬────────┬────────┬────────╮\n",
       "│<span style=\"color: #7f7f7f; text-decoration-color: #7f7f7f; font-weight: bold\">Index    </span>│<span style=\"color: #c0c0c0; text-decoration-color: #c0c0c0; background-color: #000080; font-weight: bold\">Q1      </span>│<span style=\"color: #c0c0c0; text-decoration-color: #c0c0c0; background-color: #000080; font-weight: bold\">Q2      </span>│<span style=\"color: #c0c0c0; text-decoration-color: #c0c0c0; background-color: #000080; font-weight: bold\">Q3      </span>│<span style=\"color: #c0c0c0; text-decoration-color: #c0c0c0; background-color: #000080; font-weight: bold\">Q4      </span>│\n",
       "├─────────┼────────┼────────┼────────┼────────┤\n",
       "│<span style=\"color: #7f7f7f; text-decoration-color: #7f7f7f\">Product A</span>│<span style=\"color: #f1f1f1; text-decoration-color: #f1f1f1; background-color: #440154\">100.123</span> │<span style=\"color: #f1f1f1; text-decoration-color: #f1f1f1; background-color: #440154\">120.5 </span>  │<span style=\"color: #f1f1f1; text-decoration-color: #f1f1f1; background-color: #440154\">140.0</span>   │<span style=\"color: #f1f1f1; text-decoration-color: #f1f1f1; background-color: #440154\">160.555</span> │\n",
       "│<span style=\"color: #7f7f7f; text-decoration-color: #7f7f7f\">Product B</span>│<span style=\"color: #f1f1f1; text-decoration-color: #f1f1f1; background-color: #21908d\">150.456</span> │<span style=\"color: #f1f1f1; text-decoration-color: #f1f1f1; background-color: #23a983\">180.75</span>  │<span style=\"color: #000000; text-decoration-color: #000000; background-color: #fde725\">200.0</span>   │<span style=\"color: #f1f1f1; text-decoration-color: #f1f1f1; background-color: #472c7a\">170.333</span> │\n",
       "│<span style=\"color: #7f7f7f; text-decoration-color: #7f7f7f\">Product C</span>│<span style=\"color: #000000; text-decoration-color: #000000; background-color: #fde725\">200.789</span> │<span style=\"color: #000000; text-decoration-color: #000000; background-color: #fde725\">220.25</span>  │<span style=\"color: #f1f1f1; text-decoration-color: #f1f1f1; background-color: #35b779\">180.0</span>   │<span style=\"color: #000000; text-decoration-color: #000000; background-color: #fde725\">240.111</span> │\n",
       "╰─────────┴────────┴────────┴────────┴────────╯\n",
       "</pre>\n"
      ],
      "text/plain": [
       "\u001b[3m       📊 Background Gradient (Viridis)        \u001b[0m\n",
       "╭─────────┬────────┬────────┬────────┬────────╮\n",
       "│\u001b[1;2mIndex    \u001b[0m│\u001b[1;37;44mQ1      \u001b[0m│\u001b[1;37;44mQ2      \u001b[0m│\u001b[1;37;44mQ3      \u001b[0m│\u001b[1;37;44mQ4      \u001b[0m│\n",
       "├─────────┼────────┼────────┼────────┼────────┤\n",
       "│\u001b[2mProduct A\u001b[0m│\u001b[38;2;241;241;241;48;2;68;1;84m100.123\u001b[0m │\u001b[38;2;241;241;241;48;2;68;1;84m120.5 \u001b[0m  │\u001b[38;2;241;241;241;48;2;68;1;84m140.0\u001b[0m   │\u001b[38;2;241;241;241;48;2;68;1;84m160.555\u001b[0m │\n",
       "│\u001b[2mProduct B\u001b[0m│\u001b[38;2;241;241;241;48;2;33;144;141m150.456\u001b[0m │\u001b[38;2;241;241;241;48;2;35;169;131m180.75\u001b[0m  │\u001b[38;2;0;0;0;48;2;253;231;37m200.0\u001b[0m   │\u001b[38;2;241;241;241;48;2;71;44;122m170.333\u001b[0m │\n",
       "│\u001b[2mProduct C\u001b[0m│\u001b[38;2;0;0;0;48;2;253;231;37m200.789\u001b[0m │\u001b[38;2;0;0;0;48;2;253;231;37m220.25\u001b[0m  │\u001b[38;2;241;241;241;48;2;53;183;121m180.0\u001b[0m   │\u001b[38;2;0;0;0;48;2;253;231;37m240.111\u001b[0m │\n",
       "╰─────────┴────────┴────────┴────────┴────────╯\n"
      ]
     },
     "metadata": {},
     "output_type": "display_data"
    }
   ],
   "source": [
    "# Background gradient with viridis colormap\n",
    "table = df.pirr.to_rich(\n",
    "    bg=\"viridis\",\n",
    "    title=\"📊 Background Gradient (Viridis)\",\n",
    "    column_header_style=\"bold white on blue\"\n",
    ")\n",
    "console.print(table)"
   ]
  },
  {
   "cell_type": "code",
   "execution_count": 4,
   "metadata": {
    "execution": {
     "iopub.execute_input": "2025-07-30T13:52:45.372234Z",
     "iopub.status.busy": "2025-07-30T13:52:45.372030Z",
     "iopub.status.idle": "2025-07-30T13:52:45.381322Z",
     "shell.execute_reply": "2025-07-30T13:52:45.380841Z"
    }
   },
   "outputs": [
    {
     "data": {
      "text/html": [
       "<pre style=\"white-space:pre;overflow-x:auto;line-height:normal;font-family:Menlo,'DejaVu Sans Mono',consolas,'Courier New',monospace\"><span style=\"font-style: italic\">       🌈 Plasma Gradient (Column-wise)        </span>\n",
       "╭─────────┬────────┬────────┬────────┬────────╮\n",
       "│<span style=\"color: #7f7f7f; text-decoration-color: #7f7f7f; font-weight: bold\">Index    </span>│<span style=\"font-weight: bold\">Q1      </span>│<span style=\"font-weight: bold\">Q2      </span>│<span style=\"font-weight: bold\">Q3      </span>│<span style=\"font-weight: bold\">Q4      </span>│\n",
       "├─────────┼────────┼────────┼────────┼────────┤\n",
       "│<span style=\"color: #7f7f7f; text-decoration-color: #7f7f7f\">Product A</span>│<span style=\"color: #f1f1f1; text-decoration-color: #f1f1f1; background-color: #0d0887\">100.123</span> │<span style=\"color: #f1f1f1; text-decoration-color: #f1f1f1; background-color: #0d0887\">120.5 </span>  │<span style=\"color: #f1f1f1; text-decoration-color: #f1f1f1; background-color: #0d0887\">140.0</span>   │<span style=\"color: #f1f1f1; text-decoration-color: #f1f1f1; background-color: #0d0887\">160.555</span> │\n",
       "│<span style=\"color: #7f7f7f; text-decoration-color: #7f7f7f\">Product B</span>│<span style=\"color: #f1f1f1; text-decoration-color: #f1f1f1; background-color: #cb4679\">150.456</span> │<span style=\"color: #f1f1f1; text-decoration-color: #f1f1f1; background-color: #e26561\">180.75</span>  │<span style=\"color: #000000; text-decoration-color: #000000; background-color: #f0f921\">200.0</span>   │<span style=\"color: #f1f1f1; text-decoration-color: #f1f1f1; background-color: #4b03a1\">170.333</span> │\n",
       "│<span style=\"color: #7f7f7f; text-decoration-color: #7f7f7f\">Product C</span>│<span style=\"color: #000000; text-decoration-color: #000000; background-color: #f0f921\">200.789</span> │<span style=\"color: #000000; text-decoration-color: #000000; background-color: #f0f921\">220.25</span>  │<span style=\"color: #f1f1f1; text-decoration-color: #f1f1f1; background-color: #ed7953\">180.0</span>   │<span style=\"color: #000000; text-decoration-color: #000000; background-color: #f0f921\">240.111</span> │\n",
       "╰─────────┴────────┴────────┴────────┴────────╯\n",
       "</pre>\n"
      ],
      "text/plain": [
       "\u001b[3m       🌈 Plasma Gradient (Column-wise)        \u001b[0m\n",
       "╭─────────┬────────┬────────┬────────┬────────╮\n",
       "│\u001b[1;2mIndex    \u001b[0m│\u001b[1mQ1      \u001b[0m│\u001b[1mQ2      \u001b[0m│\u001b[1mQ3      \u001b[0m│\u001b[1mQ4      \u001b[0m│\n",
       "├─────────┼────────┼────────┼────────┼────────┤\n",
       "│\u001b[2mProduct A\u001b[0m│\u001b[38;2;241;241;241;48;2;13;8;135m100.123\u001b[0m │\u001b[38;2;241;241;241;48;2;13;8;135m120.5 \u001b[0m  │\u001b[38;2;241;241;241;48;2;13;8;135m140.0\u001b[0m   │\u001b[38;2;241;241;241;48;2;13;8;135m160.555\u001b[0m │\n",
       "│\u001b[2mProduct B\u001b[0m│\u001b[38;2;241;241;241;48;2;203;70;121m150.456\u001b[0m │\u001b[38;2;241;241;241;48;2;226;101;97m180.75\u001b[0m  │\u001b[38;2;0;0;0;48;2;240;249;33m200.0\u001b[0m   │\u001b[38;2;241;241;241;48;2;75;3;161m170.333\u001b[0m │\n",
       "│\u001b[2mProduct C\u001b[0m│\u001b[38;2;0;0;0;48;2;240;249;33m200.789\u001b[0m │\u001b[38;2;0;0;0;48;2;240;249;33m220.25\u001b[0m  │\u001b[38;2;241;241;241;48;2;237;121;83m180.0\u001b[0m   │\u001b[38;2;0;0;0;48;2;240;249;33m240.111\u001b[0m │\n",
       "╰─────────┴────────┴────────┴────────┴────────╯\n"
      ]
     },
     "metadata": {},
     "output_type": "display_data"
    }
   ],
   "source": [
    "# Different colormap with axis control\n",
    "table = df.pirr.to_rich(\n",
    "    bg=\"plasma\",\n",
    "    bg_kwargs={\"axis\": 0},  # Column-wise gradient\n",
    "    title=\"🌈 Plasma Gradient (Column-wise)\"\n",
    ")\n",
    "console.print(table)"
   ]
  },
  {
   "cell_type": "markdown",
   "metadata": {},
   "source": [
    "## Text Gradients\n",
    "\n",
    "Apply gradients to the text itself:"
   ]
  },
  {
   "cell_type": "code",
   "execution_count": 5,
   "metadata": {
    "execution": {
     "iopub.execute_input": "2025-07-30T13:52:45.382817Z",
     "iopub.status.busy": "2025-07-30T13:52:45.382646Z",
     "iopub.status.idle": "2025-07-30T13:52:45.393407Z",
     "shell.execute_reply": "2025-07-30T13:52:45.392779Z"
    }
   },
   "outputs": [
    {
     "data": {
      "text/html": [
       "<pre style=\"white-space:pre;overflow-x:auto;line-height:normal;font-family:Menlo,'DejaVu Sans Mono',consolas,'Courier New',monospace\"><span style=\"font-style: italic\">           🎨 Text Gradient (Coolwarm)            </span>\n",
       "╭───────────┬─────────┬────────┬───────┬─────────╮\n",
       "│<span style=\"color: #7f7f7f; text-decoration-color: #7f7f7f; font-weight: bold\"> Index     </span>│<span style=\"font-weight: bold\"> Q1      </span>│<span style=\"font-weight: bold\"> Q2     </span>│<span style=\"font-weight: bold\"> Q3    </span>│<span style=\"font-weight: bold\"> Q4      </span>│\n",
       "├───────────┼─────────┼────────┼───────┼─────────┤\n",
       "│<span style=\"color: #008080; text-decoration-color: #008080; font-weight: bold\"> Product A </span>│ <span style=\"color: #3b4cc0; text-decoration-color: #3b4cc0\">100.123</span> │ <span style=\"color: #3b4cc0; text-decoration-color: #3b4cc0\">120.5</span>  │ <span style=\"color: #3b4cc0; text-decoration-color: #3b4cc0\">140.0</span> │ <span style=\"color: #3b4cc0; text-decoration-color: #3b4cc0\">160.555</span> │\n",
       "│<span style=\"color: #008080; text-decoration-color: #008080; font-weight: bold\"> Product B </span>│ <span style=\"color: #dcdddd; text-decoration-color: #dcdddd\">150.456</span> │ <span style=\"color: #f2cab5; text-decoration-color: #f2cab5\">180.75</span> │ <span style=\"color: #b40426; text-decoration-color: #b40426\">200.0</span> │ <span style=\"color: #6180e9; text-decoration-color: #6180e9\">170.333</span> │\n",
       "│<span style=\"color: #008080; text-decoration-color: #008080; font-weight: bold\"> Product C </span>│ <span style=\"color: #b40426; text-decoration-color: #b40426\">200.789</span> │ <span style=\"color: #b40426; text-decoration-color: #b40426\">220.25</span> │ <span style=\"color: #f7b89c; text-decoration-color: #f7b89c\">180.0</span> │ <span style=\"color: #b40426; text-decoration-color: #b40426\">240.111</span> │\n",
       "╰───────────┴─────────┴────────┴───────┴─────────╯\n",
       "</pre>\n"
      ],
      "text/plain": [
       "\u001b[3m           🎨 Text Gradient (Coolwarm)            \u001b[0m\n",
       "╭───────────┬─────────┬────────┬───────┬─────────╮\n",
       "│\u001b[1;2m \u001b[0m\u001b[1;2mIndex    \u001b[0m\u001b[1;2m \u001b[0m│\u001b[1m \u001b[0m\u001b[1mQ1     \u001b[0m\u001b[1m \u001b[0m│\u001b[1m \u001b[0m\u001b[1mQ2    \u001b[0m\u001b[1m \u001b[0m│\u001b[1m \u001b[0m\u001b[1mQ3   \u001b[0m\u001b[1m \u001b[0m│\u001b[1m \u001b[0m\u001b[1mQ4     \u001b[0m\u001b[1m \u001b[0m│\n",
       "├───────────┼─────────┼────────┼───────┼─────────┤\n",
       "│\u001b[1;36m \u001b[0m\u001b[1;36mProduct A\u001b[0m\u001b[1;36m \u001b[0m│ \u001b[38;2;59;76;192m100.123\u001b[0m │ \u001b[38;2;59;76;192m120.5\u001b[0m  │ \u001b[38;2;59;76;192m140.0\u001b[0m │ \u001b[38;2;59;76;192m160.555\u001b[0m │\n",
       "│\u001b[1;36m \u001b[0m\u001b[1;36mProduct B\u001b[0m\u001b[1;36m \u001b[0m│ \u001b[38;2;220;221;221m150.456\u001b[0m │ \u001b[38;2;242;202;181m180.75\u001b[0m │ \u001b[38;2;180;4;38m200.0\u001b[0m │ \u001b[38;2;97;128;233m170.333\u001b[0m │\n",
       "│\u001b[1;36m \u001b[0m\u001b[1;36mProduct C\u001b[0m\u001b[1;36m \u001b[0m│ \u001b[38;2;180;4;38m200.789\u001b[0m │ \u001b[38;2;180;4;38m220.25\u001b[0m │ \u001b[38;2;247;184;156m180.0\u001b[0m │ \u001b[38;2;180;4;38m240.111\u001b[0m │\n",
       "╰───────────┴─────────┴────────┴───────┴─────────╯\n"
      ]
     },
     "metadata": {},
     "output_type": "display_data"
    }
   ],
   "source": [
    "# Text gradient\n",
    "table = df.pirr.to_rich(\n",
    "    tg=\"coolwarm\",\n",
    "    title=\"🎨 Text Gradient (Coolwarm)\",\n",
    "    index_style=\"bold cyan\"\n",
    ")\n",
    "console.print(table)"
   ]
  },
  {
   "cell_type": "markdown",
   "metadata": {},
   "source": [
    "## String Formatting\n",
    "\n",
    "Format numbers and strings using the enhanced format parameter:"
   ]
  },
  {
   "cell_type": "code",
   "execution_count": 6,
   "metadata": {
    "execution": {
     "iopub.execute_input": "2025-07-30T13:52:45.394903Z",
     "iopub.status.busy": "2025-07-30T13:52:45.394728Z",
     "iopub.status.idle": "2025-07-30T13:52:45.401642Z",
     "shell.execute_reply": "2025-07-30T13:52:45.401060Z"
    }
   },
   "outputs": [
    {
     "data": {
      "text/html": [
       "<pre style=\"white-space:pre;overflow-x:auto;line-height:normal;font-family:Menlo,'DejaVu Sans Mono',consolas,'Courier New',monospace\"><span style=\"font-style: italic\">         💰 Custom Number Formatting         </span>\n",
       "╭───────────┬──────┬────────┬─────┬─────────╮\n",
       "│<span style=\"color: #7f7f7f; text-decoration-color: #7f7f7f; font-weight: bold\"> Index     </span>│<span style=\"font-weight: bold\"> Q1   </span>│<span style=\"font-weight: bold\"> Q2     </span>│<span style=\"font-weight: bold\"> Q3  </span>│<span style=\"font-weight: bold\"> Q4      </span>│\n",
       "├───────────┼──────┼────────┼─────┼─────────┤\n",
       "│<span style=\"color: #7f7f7f; text-decoration-color: #7f7f7f\"> Product A </span>│ $100 │ 120.5M │ 140 │ 160.56% │\n",
       "│<span style=\"color: #7f7f7f; text-decoration-color: #7f7f7f\"> Product B </span>│ $150 │ 180.8M │ 200 │ 170.33% │\n",
       "│<span style=\"color: #7f7f7f; text-decoration-color: #7f7f7f\"> Product C </span>│ $201 │ 220.2M │ 180 │ 240.11% │\n",
       "╰───────────┴──────┴────────┴─────┴─────────╯\n",
       "</pre>\n"
      ],
      "text/plain": [
       "\u001b[3m         💰 Custom Number Formatting         \u001b[0m\n",
       "╭───────────┬──────┬────────┬─────┬─────────╮\n",
       "│\u001b[1;2m \u001b[0m\u001b[1;2mIndex    \u001b[0m\u001b[1;2m \u001b[0m│\u001b[1m \u001b[0m\u001b[1mQ1  \u001b[0m\u001b[1m \u001b[0m│\u001b[1m \u001b[0m\u001b[1mQ2    \u001b[0m\u001b[1m \u001b[0m│\u001b[1m \u001b[0m\u001b[1mQ3 \u001b[0m\u001b[1m \u001b[0m│\u001b[1m \u001b[0m\u001b[1mQ4     \u001b[0m\u001b[1m \u001b[0m│\n",
       "├───────────┼──────┼────────┼─────┼─────────┤\n",
       "│\u001b[2m \u001b[0m\u001b[2mProduct A\u001b[0m\u001b[2m \u001b[0m│ $100 │ 120.5M │ 140 │ 160.56% │\n",
       "│\u001b[2m \u001b[0m\u001b[2mProduct B\u001b[0m\u001b[2m \u001b[0m│ $150 │ 180.8M │ 200 │ 170.33% │\n",
       "│\u001b[2m \u001b[0m\u001b[2mProduct C\u001b[0m\u001b[2m \u001b[0m│ $201 │ 220.2M │ 180 │ 240.11% │\n",
       "╰───────────┴──────┴────────┴─────┴─────────╯\n"
      ]
     },
     "metadata": {},
     "output_type": "display_data"
    }
   ],
   "source": [
    "# Different formats for different columns\n",
    "table = df.pirr.to_rich(\n",
    "    format={\n",
    "        'Q1': '${:.0f}',      # Currency format\n",
    "        'Q2': '{:.1f}M',      # Millions format\n",
    "        'Q3': '{:.0f}',       # Integer format\n",
    "        'Q4': '{:.2f}%'       # Percentage format\n",
    "    },\n",
    "    title=\"💰 Custom Number Formatting\"\n",
    ")\n",
    "console.print(table)"
   ]
  },
  {
   "cell_type": "markdown",
   "metadata": {},
   "source": [
    "## Pandas Styler Integration\n",
    "\n",
    "Use existing pandas Styler objects with enhanced to_rich features:"
   ]
  },
  {
   "cell_type": "code",
   "execution_count": 7,
   "metadata": {
    "execution": {
     "iopub.execute_input": "2025-07-30T13:52:45.403230Z",
     "iopub.status.busy": "2025-07-30T13:52:45.403078Z",
     "iopub.status.idle": "2025-07-30T13:52:45.409528Z",
     "shell.execute_reply": "2025-07-30T13:52:45.409090Z"
    }
   },
   "outputs": [
    {
     "data": {
      "text/html": [
       "<pre style=\"white-space:pre;overflow-x:auto;line-height:normal;font-family:Menlo,'DejaVu Sans Mono',consolas,'Courier New',monospace\"><span style=\"font-style: italic\">                     🏭 Pandas Styler Integration                     </span>\n",
       "╭───────────┬────────────────┬──────────────┬───────────┬────────────╮\n",
       "│<span style=\"color: #7f7f7f; text-decoration-color: #7f7f7f; font-weight: bold\"> Index     </span>│<span style=\"font-weight: bold\"> Q1             </span>│<span style=\"font-weight: bold\"> Q2           </span>│<span style=\"font-weight: bold\"> Q3        </span>│<span style=\"font-weight: bold\"> Q4         </span>│\n",
       "├───────────┼────────────────┼──────────────┼───────────┼────────────┤\n",
       "│<span style=\"color: #7f7f7f; text-decoration-color: #7f7f7f\"> Product A </span>│ Product: 100.1 │ Sales: $120K │ 140 units │ 160.555000 │\n",
       "│<span style=\"color: #7f7f7f; text-decoration-color: #7f7f7f\"> Product B </span>│ Product: 150.5 │ Sales: $181K │ 200 units │ 170.333000 │\n",
       "│<span style=\"color: #7f7f7f; text-decoration-color: #7f7f7f\"> Product C </span>│ Product: 200.8 │ Sales: $220K │ 180 units │ 240.111000 │\n",
       "╰───────────┴────────────────┴──────────────┴───────────┴────────────╯\n",
       "</pre>\n"
      ],
      "text/plain": [
       "\u001b[3m                     🏭 Pandas Styler Integration                     \u001b[0m\n",
       "╭───────────┬────────────────┬──────────────┬───────────┬────────────╮\n",
       "│\u001b[1;2m \u001b[0m\u001b[1;2mIndex    \u001b[0m\u001b[1;2m \u001b[0m│\u001b[1m \u001b[0m\u001b[1mQ1            \u001b[0m\u001b[1m \u001b[0m│\u001b[1m \u001b[0m\u001b[1mQ2          \u001b[0m\u001b[1m \u001b[0m│\u001b[1m \u001b[0m\u001b[1mQ3       \u001b[0m\u001b[1m \u001b[0m│\u001b[1m \u001b[0m\u001b[1mQ4        \u001b[0m\u001b[1m \u001b[0m│\n",
       "├───────────┼────────────────┼──────────────┼───────────┼────────────┤\n",
       "│\u001b[2m \u001b[0m\u001b[2mProduct A\u001b[0m\u001b[2m \u001b[0m│ Product: 100.1 │ Sales: $120K │ 140 units │ 160.555000 │\n",
       "│\u001b[2m \u001b[0m\u001b[2mProduct B\u001b[0m\u001b[2m \u001b[0m│ Product: 150.5 │ Sales: $181K │ 200 units │ 170.333000 │\n",
       "│\u001b[2m \u001b[0m\u001b[2mProduct C\u001b[0m\u001b[2m \u001b[0m│ Product: 200.8 │ Sales: $220K │ 180 units │ 240.111000 │\n",
       "╰───────────┴────────────────┴──────────────┴───────────┴────────────╯\n"
      ]
     },
     "metadata": {},
     "output_type": "display_data"
    }
   ],
   "source": [
    "# Create pandas styler with custom formatting\n",
    "styler = df.style.format({\n",
    "    'Q1': 'Product: {:.1f}',\n",
    "    'Q2': 'Sales: ${:.0f}K',\n",
    "    'Q3': '{:.0f} units'\n",
    "})\n",
    "\n",
    "# Use styler with to_rich\n",
    "table = df.pirr.to_rich(\n",
    "    styler=styler,\n",
    "    title=\"🏭 Pandas Styler Integration\"\n",
    ")\n",
    "console.print(table)"
   ]
  },
  {
   "cell_type": "markdown",
   "metadata": {},
   "source": [
    "## Format Override\n",
    "\n",
    "Override styler formats with the format parameter:"
   ]
  },
  {
   "cell_type": "code",
   "execution_count": 8,
   "metadata": {
    "execution": {
     "iopub.execute_input": "2025-07-30T13:52:45.411013Z",
     "iopub.status.busy": "2025-07-30T13:52:45.410811Z",
     "iopub.status.idle": "2025-07-30T13:52:45.417960Z",
     "shell.execute_reply": "2025-07-30T13:52:45.417381Z"
    }
   },
   "outputs": [
    {
     "data": {
      "text/html": [
       "<pre style=\"white-space:pre;overflow-x:auto;line-height:normal;font-family:Menlo,'DejaVu Sans Mono',consolas,'Courier New',monospace\"><span style=\"font-style: italic\">                     🔄 Format Override Demo                      </span>\n",
       "╭───────────┬───────────┬────────────┬──────────────┬────────────╮\n",
       "│<span style=\"color: #7f7f7f; text-decoration-color: #7f7f7f; font-weight: bold\"> Index     </span>│<span style=\"font-weight: bold\"> Q1        </span>│<span style=\"font-weight: bold\"> Q2         </span>│<span style=\"font-weight: bold\"> Q3           </span>│<span style=\"font-weight: bold\"> Q4         </span>│\n",
       "├───────────┼───────────┼────────────┼──────────────┼────────────┤\n",
       "│<span style=\"color: #7f7f7f; text-decoration-color: #7f7f7f\"> Product A </span>│ NEW: $100 │ 120.500000 │ ADDED: 140.0 │ 160.555000 │\n",
       "│<span style=\"color: #7f7f7f; text-decoration-color: #7f7f7f\"> Product B </span>│ NEW: $150 │ 180.750000 │ ADDED: 200.0 │ 170.333000 │\n",
       "│<span style=\"color: #7f7f7f; text-decoration-color: #7f7f7f\"> Product C </span>│ NEW: $201 │ 220.250000 │ ADDED: 180.0 │ 240.111000 │\n",
       "╰───────────┴───────────┴────────────┴──────────────┴────────────╯\n",
       "</pre>\n"
      ],
      "text/plain": [
       "\u001b[3m                     🔄 Format Override Demo                      \u001b[0m\n",
       "╭───────────┬───────────┬────────────┬──────────────┬────────────╮\n",
       "│\u001b[1;2m \u001b[0m\u001b[1;2mIndex    \u001b[0m\u001b[1;2m \u001b[0m│\u001b[1m \u001b[0m\u001b[1mQ1       \u001b[0m\u001b[1m \u001b[0m│\u001b[1m \u001b[0m\u001b[1mQ2        \u001b[0m\u001b[1m \u001b[0m│\u001b[1m \u001b[0m\u001b[1mQ3          \u001b[0m\u001b[1m \u001b[0m│\u001b[1m \u001b[0m\u001b[1mQ4        \u001b[0m\u001b[1m \u001b[0m│\n",
       "├───────────┼───────────┼────────────┼──────────────┼────────────┤\n",
       "│\u001b[2m \u001b[0m\u001b[2mProduct A\u001b[0m\u001b[2m \u001b[0m│ NEW: $100 │ 120.500000 │ ADDED: 140.0 │ 160.555000 │\n",
       "│\u001b[2m \u001b[0m\u001b[2mProduct B\u001b[0m\u001b[2m \u001b[0m│ NEW: $150 │ 180.750000 │ ADDED: 200.0 │ 170.333000 │\n",
       "│\u001b[2m \u001b[0m\u001b[2mProduct C\u001b[0m\u001b[2m \u001b[0m│ NEW: $201 │ 220.250000 │ ADDED: 180.0 │ 240.111000 │\n",
       "╰───────────┴───────────┴────────────┴──────────────┴────────────╯\n"
      ]
     },
     "metadata": {},
     "output_type": "display_data"
    }
   ],
   "source": [
    "# Original styler format\n",
    "original_styler = df.style.format({'Q1': 'OLD: {:.1f}', 'Q2': 'KEEP: {:.0f}'})\n",
    "\n",
    "# Override some formats\n",
    "table = df.pirr.to_rich(\n",
    "    styler=original_styler,\n",
    "    format={'Q1': 'NEW: ${:.0f}', 'Q3': 'ADDED: {:.1f}'},  # Overrides Q1, adds Q3\n",
    "    title=\"🔄 Format Override Demo\"\n",
    ")\n",
    "console.print(table)"
   ]
  },
  {
   "cell_type": "markdown",
   "metadata": {},
   "source": [
    "## Alternating Rows\n",
    "\n",
    "Improve readability with alternating row colors:"
   ]
  },
  {
   "cell_type": "code",
   "execution_count": 9,
   "metadata": {
    "execution": {
     "iopub.execute_input": "2025-07-30T13:52:45.419454Z",
     "iopub.status.busy": "2025-07-30T13:52:45.419306Z",
     "iopub.status.idle": "2025-07-30T13:52:45.425615Z",
     "shell.execute_reply": "2025-07-30T13:52:45.425170Z"
    }
   },
   "outputs": [
    {
     "data": {
      "text/html": [
       "<pre style=\"white-space:pre;overflow-x:auto;line-height:normal;font-family:Menlo,'DejaVu Sans Mono',consolas,'Courier New',monospace\"><span style=\"font-style: italic\">            📋 Alternating Row Colors             </span>\n",
       "╭───────────┬─────────┬────────┬───────┬─────────╮\n",
       "│<span style=\"color: #7f7f7f; text-decoration-color: #7f7f7f; font-weight: bold\"> Index     </span>│<span style=\"font-weight: bold\"> Q1      </span>│<span style=\"font-weight: bold\"> Q2     </span>│<span style=\"font-weight: bold\"> Q3    </span>│<span style=\"font-weight: bold\"> Q4      </span>│\n",
       "├───────────┼─────────┼────────┼───────┼─────────┤\n",
       "│<span style=\"color: #7f7f7f; text-decoration-color: #7f7f7f\"> Product A </span>│ 100.123 │ 120.5  │ 140.0 │ 160.555 │\n",
       "│<span style=\"color: #7f7f7f; text-decoration-color: #7f7f7f\"> Product B </span>│ <span style=\"background-color: #1c1c1c\">150.456</span> │ <span style=\"background-color: #1c1c1c\">180.75</span> │ <span style=\"background-color: #1c1c1c\">200.0</span> │ <span style=\"background-color: #1c1c1c\">170.333</span> │\n",
       "│<span style=\"color: #7f7f7f; text-decoration-color: #7f7f7f\"> Product C </span>│ 200.789 │ 220.25 │ 180.0 │ 240.111 │\n",
       "╰───────────┴─────────┴────────┴───────┴─────────╯\n",
       "</pre>\n"
      ],
      "text/plain": [
       "\u001b[3m            📋 Alternating Row Colors             \u001b[0m\n",
       "╭───────────┬─────────┬────────┬───────┬─────────╮\n",
       "│\u001b[1;2m \u001b[0m\u001b[1;2mIndex    \u001b[0m\u001b[1;2m \u001b[0m│\u001b[1m \u001b[0m\u001b[1mQ1     \u001b[0m\u001b[1m \u001b[0m│\u001b[1m \u001b[0m\u001b[1mQ2    \u001b[0m\u001b[1m \u001b[0m│\u001b[1m \u001b[0m\u001b[1mQ3   \u001b[0m\u001b[1m \u001b[0m│\u001b[1m \u001b[0m\u001b[1mQ4     \u001b[0m\u001b[1m \u001b[0m│\n",
       "├───────────┼─────────┼────────┼───────┼─────────┤\n",
       "│\u001b[2m \u001b[0m\u001b[2mProduct A\u001b[0m\u001b[2m \u001b[0m│ 100.123 │ 120.5  │ 140.0 │ 160.555 │\n",
       "│\u001b[2m \u001b[0m\u001b[2mProduct B\u001b[0m\u001b[2m \u001b[0m│ \u001b[48;5;234m150.456\u001b[0m │ \u001b[48;5;234m180.75\u001b[0m │ \u001b[48;5;234m200.0\u001b[0m │ \u001b[48;5;234m170.333\u001b[0m │\n",
       "│\u001b[2m \u001b[0m\u001b[2mProduct C\u001b[0m\u001b[2m \u001b[0m│ 200.789 │ 220.25 │ 180.0 │ 240.111 │\n",
       "╰───────────┴─────────┴────────┴───────┴─────────╯\n"
      ]
     },
     "metadata": {},
     "output_type": "display_data"
    }
   ],
   "source": [
    "# Alternating row colors\n",
    "table = df.pirr.to_rich(\n",
    "    alternating_rows=True,\n",
    "    alternating_row_colors=(\"\", \"on grey11\"),\n",
    "    title=\"📋 Alternating Row Colors\"\n",
    ")\n",
    "console.print(table)"
   ]
  },
  {
   "cell_type": "markdown",
   "metadata": {},
   "source": [
    "## Manual Table Control\n",
    "\n",
    "Override automatic table optimization for custom styling:"
   ]
  },
  {
   "cell_type": "code",
   "execution_count": 10,
   "metadata": {
    "execution": {
     "iopub.execute_input": "2025-07-30T13:52:45.427166Z",
     "iopub.status.busy": "2025-07-30T13:52:45.427018Z",
     "iopub.status.idle": "2025-07-30T13:52:45.433768Z",
     "shell.execute_reply": "2025-07-30T13:52:45.433152Z"
    }
   },
   "outputs": [
    {
     "data": {
      "text/html": [
       "<pre style=\"white-space:pre;overflow-x:auto;line-height:normal;font-family:Menlo,'DejaVu Sans Mono',consolas,'Courier New',monospace\"><span style=\"font-style: italic\">                   ⚙️ Manual Table Control                   </span>\n",
       "╔═════════════╦═══════════╦══════════╦═════════╦═══════════╗\n",
       "║<span style=\"color: #7f7f7f; text-decoration-color: #7f7f7f; font-weight: bold\">             </span>║<span style=\"font-weight: bold\">           </span>║<span style=\"font-weight: bold\">          </span>║<span style=\"font-weight: bold\">         </span>║<span style=\"font-weight: bold\">           </span>║\n",
       "║<span style=\"color: #7f7f7f; text-decoration-color: #7f7f7f; font-weight: bold\">  Index      </span>║<span style=\"font-weight: bold\">  Q1       </span>║<span style=\"font-weight: bold\">  Q2      </span>║<span style=\"font-weight: bold\">  Q3     </span>║<span style=\"font-weight: bold\">  Q4       </span>║\n",
       "║<span style=\"color: #7f7f7f; text-decoration-color: #7f7f7f; font-weight: bold\">             </span>║<span style=\"font-weight: bold\">           </span>║<span style=\"font-weight: bold\">          </span>║<span style=\"font-weight: bold\">         </span>║<span style=\"font-weight: bold\">           </span>║\n",
       "╠═════════════╬═══════════╬══════════╬═════════╬═══════════╣\n",
       "║<span style=\"color: #7f7f7f; text-decoration-color: #7f7f7f\">             </span>║           ║          ║         ║           ║\n",
       "║<span style=\"color: #7f7f7f; text-decoration-color: #7f7f7f\">  Product A  </span>║  100.123  ║  120.5   ║  140.0  ║  160.555  ║\n",
       "║<span style=\"color: #7f7f7f; text-decoration-color: #7f7f7f\">             </span>║           ║          ║         ║           ║\n",
       "║<span style=\"color: #7f7f7f; text-decoration-color: #7f7f7f\">             </span>║           ║          ║         ║           ║\n",
       "║<span style=\"color: #7f7f7f; text-decoration-color: #7f7f7f\">  Product B  </span>║  150.456  ║  180.75  ║  200.0  ║  170.333  ║\n",
       "║<span style=\"color: #7f7f7f; text-decoration-color: #7f7f7f\">             </span>║           ║          ║         ║           ║\n",
       "║<span style=\"color: #7f7f7f; text-decoration-color: #7f7f7f\">             </span>║           ║          ║         ║           ║\n",
       "║<span style=\"color: #7f7f7f; text-decoration-color: #7f7f7f\">  Product C  </span>║  200.789  ║  220.25  ║  180.0  ║  240.111  ║\n",
       "║<span style=\"color: #7f7f7f; text-decoration-color: #7f7f7f\">             </span>║           ║          ║         ║           ║\n",
       "╚═════════════╩═══════════╩══════════╩═════════╩═══════════╝\n",
       "</pre>\n"
      ],
      "text/plain": [
       "\u001b[3m                   ⚙️ Manual Table Control                   \u001b[0m\n",
       "╔═════════════╦═══════════╦══════════╦═════════╦═══════════╗\n",
       "║\u001b[1;2m             \u001b[0m║\u001b[1m           \u001b[0m║\u001b[1m          \u001b[0m║\u001b[1m         \u001b[0m║\u001b[1m           \u001b[0m║\n",
       "║\u001b[1;2m  \u001b[0m\u001b[1;2mIndex    \u001b[0m\u001b[1;2m  \u001b[0m║\u001b[1m  \u001b[0m\u001b[1mQ1     \u001b[0m\u001b[1m  \u001b[0m║\u001b[1m  \u001b[0m\u001b[1mQ2    \u001b[0m\u001b[1m  \u001b[0m║\u001b[1m  \u001b[0m\u001b[1mQ3   \u001b[0m\u001b[1m  \u001b[0m║\u001b[1m  \u001b[0m\u001b[1mQ4     \u001b[0m\u001b[1m  \u001b[0m║\n",
       "║\u001b[1;2m             \u001b[0m║\u001b[1m           \u001b[0m║\u001b[1m          \u001b[0m║\u001b[1m         \u001b[0m║\u001b[1m           \u001b[0m║\n",
       "╠═════════════╬═══════════╬══════════╬═════════╬═══════════╣\n",
       "║\u001b[2m             \u001b[0m║           ║          ║         ║           ║\n",
       "║\u001b[2m  \u001b[0m\u001b[2mProduct A\u001b[0m\u001b[2m  \u001b[0m║  100.123  ║  120.5   ║  140.0  ║  160.555  ║\n",
       "║\u001b[2m             \u001b[0m║           ║          ║         ║           ║\n",
       "║\u001b[2m             \u001b[0m║           ║          ║         ║           ║\n",
       "║\u001b[2m  \u001b[0m\u001b[2mProduct B\u001b[0m\u001b[2m  \u001b[0m║  150.456  ║  180.75  ║  200.0  ║  170.333  ║\n",
       "║\u001b[2m             \u001b[0m║           ║          ║         ║           ║\n",
       "║\u001b[2m             \u001b[0m║           ║          ║         ║           ║\n",
       "║\u001b[2m  \u001b[0m\u001b[2mProduct C\u001b[0m\u001b[2m  \u001b[0m║  200.789  ║  220.25  ║  180.0  ║  240.111  ║\n",
       "║\u001b[2m             \u001b[0m║           ║          ║         ║           ║\n",
       "╚═════════════╩═══════════╩══════════╩═════════╩═══════════╝\n"
      ]
     },
     "metadata": {},
     "output_type": "display_data"
    }
   ],
   "source": [
    "# Manual table settings\n",
    "table = df.pirr.to_rich(\n",
    "    auto_optimize=False,\n",
    "    box=box.DOUBLE,\n",
    "    padding=(1, 2),\n",
    "    show_edge=True,\n",
    "    title=\"⚙️ Manual Table Control\"\n",
    ")\n",
    "console.print(table)"
   ]
  },
  {
   "cell_type": "markdown",
   "metadata": {},
   "source": [
    "## Series Support\n",
    "\n",
    "to_rich also works with pandas Series:"
   ]
  },
  {
   "cell_type": "code",
   "execution_count": 11,
   "metadata": {
    "execution": {
     "iopub.execute_input": "2025-07-30T13:52:45.435413Z",
     "iopub.status.busy": "2025-07-30T13:52:45.435261Z",
     "iopub.status.idle": "2025-07-30T13:52:45.441253Z",
     "shell.execute_reply": "2025-07-30T13:52:45.440651Z"
    }
   },
   "outputs": [
    {
     "data": {
      "text/html": [
       "<pre style=\"white-space:pre;overflow-x:auto;line-height:normal;font-family:Menlo,'DejaVu Sans Mono',consolas,'Courier New',monospace\"><span style=\"font-style: italic\">     📈 Series with Formatting     </span>\n",
       "╭───────────┬─────────────────────╮\n",
       "│<span style=\"color: #7f7f7f; text-decoration-color: #7f7f7f; font-weight: bold\"> Index     </span>│<span style=\"font-weight: bold\"> Performance Metrics </span>│\n",
       "├───────────┼─────────────────────┤\n",
       "│<span style=\"color: #000080; text-decoration-color: #000080; font-weight: bold\"> Accuracy  </span>│ 12.3%               │\n",
       "│<span style=\"color: #000080; text-decoration-color: #000080; font-weight: bold\"> Precision </span>│ 45.6%               │\n",
       "│<span style=\"color: #000080; text-decoration-color: #000080; font-weight: bold\"> Recall    </span>│ 78.9%               │\n",
       "╰───────────┴─────────────────────╯\n",
       "</pre>\n"
      ],
      "text/plain": [
       "\u001b[3m     📈 Series with Formatting     \u001b[0m\n",
       "╭───────────┬─────────────────────╮\n",
       "│\u001b[1;2m \u001b[0m\u001b[1;2mIndex    \u001b[0m\u001b[1;2m \u001b[0m│\u001b[1m \u001b[0m\u001b[1mPerformance Metrics\u001b[0m\u001b[1m \u001b[0m│\n",
       "├───────────┼─────────────────────┤\n",
       "│\u001b[1;34m \u001b[0m\u001b[1;34mAccuracy \u001b[0m\u001b[1;34m \u001b[0m│ 12.3%               │\n",
       "│\u001b[1;34m \u001b[0m\u001b[1;34mPrecision\u001b[0m\u001b[1;34m \u001b[0m│ 45.6%               │\n",
       "│\u001b[1;34m \u001b[0m\u001b[1;34mRecall   \u001b[0m\u001b[1;34m \u001b[0m│ 78.9%               │\n",
       "╰───────────┴─────────────────────╯\n"
      ]
     },
     "metadata": {},
     "output_type": "display_data"
    }
   ],
   "source": [
    "# Create a Series\n",
    "series = pd.Series([0.123, 0.456, 0.789], \n",
    "                  name='Performance Metrics',\n",
    "                  index=['Accuracy', 'Precision', 'Recall'])\n",
    "\n",
    "# Format the Series\n",
    "table = series.pirr.to_rich(\n",
    "    format='{:.1%}',\n",
    "    title=\"📈 Series with Formatting\",\n",
    "    index_style=\"bold blue\"\n",
    ")\n",
    "console.print(table)"
   ]
  },
  {
   "cell_type": "markdown",
   "metadata": {},
   "source": [
    "## Professional Report Style\n",
    "\n",
    "Combine multiple features for professional-looking reports:"
   ]
  },
  {
   "cell_type": "code",
   "execution_count": 12,
   "metadata": {
    "execution": {
     "iopub.execute_input": "2025-07-30T13:52:45.442795Z",
     "iopub.status.busy": "2025-07-30T13:52:45.442632Z",
     "iopub.status.idle": "2025-07-30T13:52:45.452213Z",
     "shell.execute_reply": "2025-07-30T13:52:45.451752Z"
    }
   },
   "outputs": [
    {
     "data": {
      "text/html": [
       "<pre style=\"white-space:pre;overflow-x:auto;line-height:normal;font-family:Menlo,'DejaVu Sans Mono',consolas,'Courier New',monospace\"><span style=\"font-style: italic\">       📊 Quarterly Sales Report - 2024        </span>\n",
       "╭─────────┬────────┬────────┬────────┬────────╮\n",
       "│<span style=\"color: #808000; text-decoration-color: #808000; background-color: #870000; font-weight: bold\">Index    </span>│<span style=\"color: #c0c0c0; text-decoration-color: #c0c0c0; background-color: #000087; font-weight: bold\">Q1      </span>│<span style=\"color: #c0c0c0; text-decoration-color: #c0c0c0; background-color: #000087; font-weight: bold\">Q2      </span>│<span style=\"color: #c0c0c0; text-decoration-color: #c0c0c0; background-color: #000087; font-weight: bold\">Q3      </span>│<span style=\"color: #c0c0c0; text-decoration-color: #c0c0c0; background-color: #000087; font-weight: bold\">Q4      </span>│\n",
       "├─────────┼────────┼────────┼────────┼────────┤\n",
       "│<span style=\"color: #008080; text-decoration-color: #008080; font-style: italic\">Product A</span>│<span style=\"color: #f1f1f1; text-decoration-color: #f1f1f1; background-color: #440154\">$100K  </span> │<span style=\"color: #f1f1f1; text-decoration-color: #f1f1f1; background-color: #440154\">$120K </span>  │<span style=\"color: #f1f1f1; text-decoration-color: #f1f1f1; background-color: #440154\">$140K</span>   │<span style=\"color: #f1f1f1; text-decoration-color: #f1f1f1; background-color: #440154\">$161K  </span> │\n",
       "│<span style=\"color: #008080; text-decoration-color: #008080; font-style: italic\">Product B</span>│<span style=\"color: #f1f1f1; text-decoration-color: #f1f1f1; background-color: #21908d\">$150K  </span><span style=\"background-color: #1c1c1c\"> </span>│<span style=\"color: #f1f1f1; text-decoration-color: #f1f1f1; background-color: #23a983\">$181K </span><span style=\"background-color: #1c1c1c\">  </span>│<span style=\"color: #000000; text-decoration-color: #000000; background-color: #fde725\">$200K</span><span style=\"background-color: #1c1c1c\">   </span>│<span style=\"color: #f1f1f1; text-decoration-color: #f1f1f1; background-color: #472c7a\">$170K  </span><span style=\"background-color: #1c1c1c\"> </span>│\n",
       "│<span style=\"color: #008080; text-decoration-color: #008080; font-style: italic\">Product C</span>│<span style=\"color: #000000; text-decoration-color: #000000; background-color: #fde725\">$201K  </span> │<span style=\"color: #000000; text-decoration-color: #000000; background-color: #fde725\">$220K </span>  │<span style=\"color: #f1f1f1; text-decoration-color: #f1f1f1; background-color: #35b779\">$180K</span>   │<span style=\"color: #000000; text-decoration-color: #000000; background-color: #fde725\">$240K  </span> │\n",
       "╰─────────┴────────┴────────┴────────┴────────╯\n",
       "</pre>\n"
      ],
      "text/plain": [
       "\u001b[3m       📊 Quarterly Sales Report - 2024        \u001b[0m\n",
       "╭─────────┬────────┬────────┬────────┬────────╮\n",
       "│\u001b[1;33;48;5;88mIndex    \u001b[0m│\u001b[1;37;48;5;18mQ1      \u001b[0m│\u001b[1;37;48;5;18mQ2      \u001b[0m│\u001b[1;37;48;5;18mQ3      \u001b[0m│\u001b[1;37;48;5;18mQ4      \u001b[0m│\n",
       "├─────────┼────────┼────────┼────────┼────────┤\n",
       "│\u001b[3;36mProduct A\u001b[0m│\u001b[38;2;241;241;241;48;2;68;1;84m$100K  \u001b[0m │\u001b[38;2;241;241;241;48;2;68;1;84m$120K \u001b[0m  │\u001b[38;2;241;241;241;48;2;68;1;84m$140K\u001b[0m   │\u001b[38;2;241;241;241;48;2;68;1;84m$161K  \u001b[0m │\n",
       "│\u001b[3;36mProduct B\u001b[0m│\u001b[38;2;241;241;241;48;2;33;144;141m$150K  \u001b[0m\u001b[48;5;234m \u001b[0m│\u001b[38;2;241;241;241;48;2;35;169;131m$181K \u001b[0m\u001b[48;5;234m  \u001b[0m│\u001b[38;2;0;0;0;48;2;253;231;37m$200K\u001b[0m\u001b[48;5;234m   \u001b[0m│\u001b[38;2;241;241;241;48;2;71;44;122m$170K  \u001b[0m\u001b[48;5;234m \u001b[0m│\n",
       "│\u001b[3;36mProduct C\u001b[0m│\u001b[38;2;0;0;0;48;2;253;231;37m$201K  \u001b[0m │\u001b[38;2;0;0;0;48;2;253;231;37m$220K \u001b[0m  │\u001b[38;2;241;241;241;48;2;53;183;121m$180K\u001b[0m   │\u001b[38;2;0;0;0;48;2;253;231;37m$240K  \u001b[0m │\n",
       "╰─────────┴────────┴────────┴────────┴────────╯\n"
      ]
     },
     "metadata": {},
     "output_type": "display_data"
    }
   ],
   "source": [
    "# Professional styling combining multiple features\n",
    "table = df.pirr.to_rich(\n",
    "    bg=\"viridis\",\n",
    "    format={\n",
    "        'Q1': '${:.0f}K',\n",
    "        'Q2': '${:.0f}K', \n",
    "        'Q3': '${:.0f}K',\n",
    "        'Q4': '${:.0f}K'\n",
    "    },\n",
    "    column_header_style=\"bold white on dark_blue\",\n",
    "    index_header_style=\"bold yellow on dark_red\", \n",
    "    index_style=\"italic cyan\",\n",
    "    alternating_rows=True,\n",
    "    alternating_row_colors=(\"\", \"on grey11\"),\n",
    "    title=\"📊 Quarterly Sales Report - 2024\"\n",
    ")\n",
    "console.print(table)"
   ]
  },
  {
   "cell_type": "markdown",
   "metadata": {},
   "source": [
    "## Large Dataset Example\n",
    "\n",
    "Demonstrate with a larger dataset:"
   ]
  },
  {
   "cell_type": "code",
   "execution_count": 13,
   "metadata": {
    "execution": {
     "iopub.execute_input": "2025-07-30T13:52:45.453706Z",
     "iopub.status.busy": "2025-07-30T13:52:45.453558Z",
     "iopub.status.idle": "2025-07-30T13:52:45.466829Z",
     "shell.execute_reply": "2025-07-30T13:52:45.466398Z"
    }
   },
   "outputs": [
    {
     "data": {
      "text/html": [
       "<pre style=\"white-space:pre;overflow-x:auto;line-height:normal;font-family:Menlo,'DejaVu Sans Mono',consolas,'Courier New',monospace\"><span style=\"font-style: italic\">                            🌍 Regional Performance Dashboard                            </span>\n",
       "╭────────┬──────────────────┬──────────────────┬────────────────────┬───────────────────╮\n",
       "│<span style=\"color: #7f7f7f; text-decoration-color: #7f7f7f; font-weight: bold\">Index   </span>│<span style=\"color: #c0c0c0; text-decoration-color: #c0c0c0; background-color: #af00ff; font-weight: bold\">Revenue           </span>│<span style=\"color: #c0c0c0; text-decoration-color: #c0c0c0; background-color: #af00ff; font-weight: bold\">Profit            </span>│<span style=\"color: #c0c0c0; text-decoration-color: #c0c0c0; background-color: #af00ff; font-weight: bold\">Growth              </span>│<span style=\"color: #c0c0c0; text-decoration-color: #c0c0c0; background-color: #af00ff; font-weight: bold\">Market_Share       </span>│\n",
       "├────────┼──────────────────┼──────────────────┼────────────────────┼───────────────────┤\n",
       "│<span style=\"color: #7f7f7f; text-decoration-color: #7f7f7f\">Region_0</span>│<span style=\"color: #f1f1f1; text-decoration-color: #f1f1f1; background-color: #a21d9a\">$106,181          </span>│<span style=\"color: #f1f1f1; text-decoration-color: #f1f1f1; background-color: #e3685f\">$32,050           </span>│<span style=\"color: #f1f1f1; text-decoration-color: #f1f1f1; background-color: #a11b9b\">+2.2%               </span>│<span style=\"color: #f1f1f1; text-decoration-color: #f1f1f1; background-color: #d7566c\">14.1%              </span>│\n",
       "│<span style=\"color: #7f7f7f; text-decoration-color: #7f7f7f\">Region_1</span>│<span style=\"color: #000000; text-decoration-color: #000000; background-color: #f0f921\">$192,607          </span>│<span style=\"color: #f1f1f1; text-decoration-color: #f1f1f1; background-color: #f58c46\">$36,863           </span>│<span style=\"color: #000000; text-decoration-color: #000000; background-color: #fdac33\">+11.0%              </span>│<span style=\"color: #000000; text-decoration-color: #000000; background-color: #f0f921\">20.7%              </span>│\n",
       "│<span style=\"color: #7f7f7f; text-decoration-color: #7f7f7f\">Region_2</span>│<span style=\"color: #000000; text-decoration-color: #000000; background-color: #f9973f\">$159,799          </span>│<span style=\"color: #f1f1f1; text-decoration-color: #f1f1f1; background-color: #0d0887\">$5,926            </span>│<span style=\"color: #f1f1f1; text-decoration-color: #f1f1f1; background-color: #e56a5d\">+7.3%               </span>│<span style=\"color: #f1f1f1; text-decoration-color: #f1f1f1; background-color: #6e00a8\">9.0%               </span>│\n",
       "│<span style=\"color: #7f7f7f; text-decoration-color: #7f7f7f\">Region_3</span>│<span style=\"color: #f1f1f1; text-decoration-color: #f1f1f1; background-color: #e26660\">$139,799          </span>│<span style=\"color: #000000; text-decoration-color: #000000; background-color: #f0f921\">$48,646           </span>│<span style=\"color: #f1f1f1; text-decoration-color: #f1f1f1; background-color: #9814a0\">+1.6%               </span>│<span style=\"color: #f1f1f1; text-decoration-color: #f1f1f1; background-color: #e76f5a\">15.3%              </span>│\n",
       "│<span style=\"color: #7f7f7f; text-decoration-color: #7f7f7f\">Region_4</span>│<span style=\"color: #f1f1f1; text-decoration-color: #f1f1f1; background-color: #46039f\">$73,403           </span>│<span style=\"color: #000000; text-decoration-color: #000000; background-color: #febb2b\">$42,460           </span>│<span style=\"color: #000000; text-decoration-color: #000000; background-color: #f0f921\">+14.5%              </span>│<span style=\"color: #f1f1f1; text-decoration-color: #f1f1f1; background-color: #f79143\">16.8%              </span>│\n",
       "│<span style=\"color: #7f7f7f; text-decoration-color: #7f7f7f\">Region_5</span>│<span style=\"color: #f1f1f1; text-decoration-color: #f1f1f1; background-color: #46039f\">$73,399           </span>│<span style=\"color: #f1f1f1; text-decoration-color: #f1f1f1; background-color: #6a00a8\">$14,555           </span>│<span style=\"color: #f1f1f1; text-decoration-color: #f1f1f1; background-color: #0d0887\">-4.4%               </span>│<span style=\"color: #f1f1f1; text-decoration-color: #f1f1f1; background-color: #0d0887\">5.9%               </span>│\n",
       "│<span style=\"color: #7f7f7f; text-decoration-color: #7f7f7f\">Region_6</span>│<span style=\"color: #f1f1f1; text-decoration-color: #f1f1f1; background-color: #0d0887\">$58,713           </span>│<span style=\"color: #f1f1f1; text-decoration-color: #f1f1f1; background-color: #5e01a6\">$13,182           </span>│<span style=\"color: #f1f1f1; text-decoration-color: #f1f1f1; background-color: #9814a0\">+1.7%               </span>│<span style=\"color: #000000; text-decoration-color: #000000; background-color: #f9983e\">17.2%              </span>│\n",
       "│<span style=\"color: #7f7f7f; text-decoration-color: #7f7f7f\">Region_7</span>│<span style=\"color: #000000; text-decoration-color: #000000; background-color: #fcd025\">$179,926          </span>│<span style=\"color: #f1f1f1; text-decoration-color: #f1f1f1; background-color: #5e01a6\">$13,253           </span>│<span style=\"color: #f1f1f1; text-decoration-color: #f1f1f1; background-color: #c6417d\">+4.7%               </span>│<span style=\"color: #f1f1f1; text-decoration-color: #f1f1f1; background-color: #5c01a6\">8.4%               </span>│\n",
       "╰────────┴──────────────────┴──────────────────┴────────────────────┴───────────────────╯\n",
       "</pre>\n"
      ],
      "text/plain": [
       "\u001b[3m                            🌍 Regional Performance Dashboard                            \u001b[0m\n",
       "╭────────┬──────────────────┬──────────────────┬────────────────────┬───────────────────╮\n",
       "│\u001b[1;2mIndex   \u001b[0m│\u001b[1;37;48;5;129mRevenue           \u001b[0m│\u001b[1;37;48;5;129mProfit            \u001b[0m│\u001b[1;37;48;5;129mGrowth              \u001b[0m│\u001b[1;37;48;5;129mMarket_Share       \u001b[0m│\n",
       "├────────┼──────────────────┼──────────────────┼────────────────────┼───────────────────┤\n",
       "│\u001b[2mRegion_0\u001b[0m│\u001b[38;2;241;241;241;48;2;162;29;154m$106,181          \u001b[0m│\u001b[38;2;241;241;241;48;2;227;104;95m$32,050           \u001b[0m│\u001b[38;2;241;241;241;48;2;161;27;155m+2.2%               \u001b[0m│\u001b[38;2;241;241;241;48;2;215;86;108m14.1%              \u001b[0m│\n",
       "│\u001b[2mRegion_1\u001b[0m│\u001b[38;2;0;0;0;48;2;240;249;33m$192,607          \u001b[0m│\u001b[38;2;241;241;241;48;2;245;140;70m$36,863           \u001b[0m│\u001b[38;2;0;0;0;48;2;253;172;51m+11.0%              \u001b[0m│\u001b[38;2;0;0;0;48;2;240;249;33m20.7%              \u001b[0m│\n",
       "│\u001b[2mRegion_2\u001b[0m│\u001b[38;2;0;0;0;48;2;249;151;63m$159,799          \u001b[0m│\u001b[38;2;241;241;241;48;2;13;8;135m$5,926            \u001b[0m│\u001b[38;2;241;241;241;48;2;229;106;93m+7.3%               \u001b[0m│\u001b[38;2;241;241;241;48;2;110;0;168m9.0%               \u001b[0m│\n",
       "│\u001b[2mRegion_3\u001b[0m│\u001b[38;2;241;241;241;48;2;226;102;96m$139,799          \u001b[0m│\u001b[38;2;0;0;0;48;2;240;249;33m$48,646           \u001b[0m│\u001b[38;2;241;241;241;48;2;152;20;160m+1.6%               \u001b[0m│\u001b[38;2;241;241;241;48;2;231;111;90m15.3%              \u001b[0m│\n",
       "│\u001b[2mRegion_4\u001b[0m│\u001b[38;2;241;241;241;48;2;70;3;159m$73,403           \u001b[0m│\u001b[38;2;0;0;0;48;2;254;187;43m$42,460           \u001b[0m│\u001b[38;2;0;0;0;48;2;240;249;33m+14.5%              \u001b[0m│\u001b[38;2;241;241;241;48;2;247;145;67m16.8%              \u001b[0m│\n",
       "│\u001b[2mRegion_5\u001b[0m│\u001b[38;2;241;241;241;48;2;70;3;159m$73,399           \u001b[0m│\u001b[38;2;241;241;241;48;2;106;0;168m$14,555           \u001b[0m│\u001b[38;2;241;241;241;48;2;13;8;135m-4.4%               \u001b[0m│\u001b[38;2;241;241;241;48;2;13;8;135m5.9%               \u001b[0m│\n",
       "│\u001b[2mRegion_6\u001b[0m│\u001b[38;2;241;241;241;48;2;13;8;135m$58,713           \u001b[0m│\u001b[38;2;241;241;241;48;2;94;1;166m$13,182           \u001b[0m│\u001b[38;2;241;241;241;48;2;152;20;160m+1.7%               \u001b[0m│\u001b[38;2;0;0;0;48;2;249;152;62m17.2%              \u001b[0m│\n",
       "│\u001b[2mRegion_7\u001b[0m│\u001b[38;2;0;0;0;48;2;252;208;37m$179,926          \u001b[0m│\u001b[38;2;241;241;241;48;2;94;1;166m$13,253           \u001b[0m│\u001b[38;2;241;241;241;48;2;198;65;125m+4.7%               \u001b[0m│\u001b[38;2;241;241;241;48;2;92;1;166m8.4%               \u001b[0m│\n",
       "╰────────┴──────────────────┴──────────────────┴────────────────────┴───────────────────╯\n"
      ]
     },
     "metadata": {},
     "output_type": "display_data"
    }
   ],
   "source": [
    "# Create larger dataset\n",
    "np.random.seed(42)\n",
    "large_df = pd.DataFrame({\n",
    "    'Revenue': np.random.uniform(50000, 200000, 8),\n",
    "    'Profit': np.random.uniform(5000, 50000, 8),\n",
    "    'Growth': np.random.uniform(-0.1, 0.3, 8),\n",
    "    'Market_Share': np.random.uniform(0.05, 0.25, 8)\n",
    "}, index=[f'Region_{i}' for i in range(8)])\n",
    "\n",
    "# Display with comprehensive formatting\n",
    "table = large_df.pirr.to_rich(\n",
    "    bg=\"plasma\",\n",
    "    format={\n",
    "        'Revenue': '${:,.0f}',\n",
    "        'Profit': '${:,.0f}',\n",
    "        'Growth': '{:+.1%}',\n",
    "        'Market_Share': '{:.1%}'\n",
    "    },\n",
    "    title=\"🌍 Regional Performance Dashboard\",\n",
    "    column_header_style=\"bold white on purple\",\n",
    "    show_index=True\n",
    ")\n",
    "console.print(table)"
   ]
  },
  {
   "cell_type": "markdown",
   "metadata": {},
   "source": [
    "## CLI Tutorial Command\n",
    "\n",
    "After installing pirrtools, you can also run an interactive tutorial from the command line:\n",
    "\n",
    "```bash\n",
    "pirrtools-tutorial\n",
    "```\n",
    "\n",
    "This launches a comprehensive interactive tutorial covering all features.\n",
    "\n",
    "## Summary\n",
    "\n",
    "The `to_rich` method provides powerful formatting capabilities:\n",
    "\n",
    "- ✅ **Background & text gradients** for data visualization\n",
    "- ✅ **String formatting** with pandas Styler integration\n",
    "- ✅ **Manual table control** to override automatic optimization\n",
    "- ✅ **Professional styling** options for reports\n",
    "- ✅ **Series support** with all formatting features\n",
    "- ✅ **Easy console output** with Rich integration\n",
    "\n",
    "For more details, see the [documentation](https://pirrtools.readthedocs.io/) and [API reference](https://pirrtools.readthedocs.io/en/latest/api_reference.html)."
   ]
  }
 ],
 "metadata": {
  "kernelspec": {
   "display_name": "Python 3",
   "language": "python",
   "name": "python3"
  },
  "language_info": {
   "codemirror_mode": {
    "name": "ipython",
    "version": 3
   },
   "file_extension": ".py",
   "mimetype": "text/x-python",
   "name": "python",
   "nbconvert_exporter": "python",
   "pygments_lexer": "ipython3",
   "version": "3.11.13"
  }
 },
 "nbformat": 4,
 "nbformat_minor": 4
}
