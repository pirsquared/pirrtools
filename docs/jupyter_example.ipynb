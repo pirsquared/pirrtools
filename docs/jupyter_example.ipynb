{
 "cells": [
  {
   "cell_type": "markdown",
   "metadata": {},
   "source": [
    "# Pirrtools Interactive Tutorial\n",
    "\n",
    "This notebook demonstrates the key features of the pirrtools library with interactive examples."
   ]
  },
  {
   "cell_type": "code",
   "execution_count": null,
   "metadata": {},
   "outputs": [],
   "source": [
    "import pandas as pd\n",
    "import pirrtools\n",
    "from pirrtools.structures import AttrDict, AttrPath"
   ]
  },
  {
   "cell_type": "markdown",
   "metadata": {},
   "source": [
    "## Pandas Caching with Pirrtools\n",
    "\n",
    "The core feature of pirrtools is pandas DataFrame caching using the feather format."
   ]
  },
  {
   "cell_type": "code",
   "execution_count": null,
   "metadata": {},
   "outputs": [],
   "source": [
    "# Create a sample DataFrame\n",
    "df = pd.DataFrame({\n",
    "    'product': ['A', 'B', 'C', 'D', 'E'],\n",
    "    'sales': [100, 150, 200, 120, 180],\n",
    "    'region': ['North', 'South', 'East', 'West', 'Central']\n",
    "})\n",
    "\n",
    "print(\"Sample DataFrame:\")\n",
    "df"
   ]
  },
  {
   "cell_type": "code",
   "execution_count": null,
   "metadata": {},
   "outputs": [],
   "source": "# Use the pirr accessor for caching\n# This will save the DataFrame to cache and allow quick reloading\ncache_path = '/tmp/sample_data.feather'\ndf.pirr.to_cache(cache_path)\nprint(f\"DataFrame cached to: {cache_path}\")"
  },
  {
   "cell_type": "markdown",
   "metadata": {},
   "source": [
    "## AttrPath - Attribute-based File Navigation\n",
    "\n",
    "Navigate the file system using dot notation with intelligent file viewing."
   ]
  },
  {
   "cell_type": "code",
   "execution_count": null,
   "metadata": {},
   "outputs": [],
   "source": [
    "# Navigate to workspace directory\n",
    "workspace = AttrPath('/workspace')\n",
    "print(f\"Workspace path: {workspace}\")\n",
    "print(f\"Is directory: {workspace.is_dir()}\")\n",
    "\n",
    "# List some contents\n",
    "if hasattr(workspace, 'D'):\n",
    "    print(f\"\\nDirectories available: {list(workspace.D.__dict__.keys())[:5]}\")\n",
    "if hasattr(workspace, 'F'):\n",
    "    print(f\"Files available: {list(workspace.F.__dict__.keys())[:5]}\")"
   ]
  },
  {
   "cell_type": "markdown",
   "metadata": {},
   "source": [
    "## AttrDict - Dictionary with Attribute Access\n",
    "\n",
    "Access dictionary values using dot notation."
   ]
  },
  {
   "cell_type": "code",
   "execution_count": null,
   "metadata": {},
   "outputs": [],
   "source": [
    "# Create an AttrDict\n",
    "config = AttrDict({\n",
    "    'database': {\n",
    "        'host': 'localhost',\n",
    "        'port': 5432,\n",
    "        'name': 'mydb'\n",
    "    },\n",
    "    'debug': True,\n",
    "    'features': ['caching', 'logging', 'monitoring']\n",
    "})\n",
    "\n",
    "print(f\"Database host: {config.database.host}\")\n",
    "print(f\"Database port: {config.database.port}\")\n",
    "print(f\"Debug mode: {config.debug}\")\n",
    "print(f\"Available features: {config.features}\")"
   ]
  },
  {
   "cell_type": "markdown",
   "metadata": {},
   "source": [
    "## Utility Functions\n",
    "\n",
    "Pirrtools provides several utility functions for development."
   ]
  },
  {
   "cell_type": "code",
   "execution_count": null,
   "metadata": {},
   "outputs": [],
   "source": [
    "# Find instances of specific types\n",
    "dataframe_instances = pirrtools.find_instances(pd.DataFrame)\n",
    "print(f\"Found {len(dataframe_instances)} DataFrame instances\")\n",
    "\n",
    "# The addpath function helps with Python path management\n",
    "print(f\"\\naddpath function available: {callable(pirrtools.addpath)}\")"
   ]
  }
 ],
 "metadata": {
  "kernelspec": {
   "display_name": "Python 3",
   "language": "python",
   "name": "python3"
  },
  "language_info": {
   "codemirror_mode": {
    "name": "ipython",
    "version": 3
   },
   "file_extension": ".py",
   "mimetype": "text/x-python",
   "name": "python",
   "nbconvert_exporter": "python",
   "version": "3.11.0"
  }
 },
 "nbformat": 4,
 "nbformat_minor": 4
}