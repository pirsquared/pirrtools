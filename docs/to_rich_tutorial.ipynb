{
 "cells": [
  {
   "cell_type": "markdown",
   "metadata": {},
   "source": [
    "# Pirrtools to_rich Tutorial\n",
    "\n",
    "This notebook demonstrates all features of the `to_rich` method for creating beautiful Rich tables from pandas DataFrames and Series.\n",
    "\n",
    "## Setup\n",
    "\n",
    "First, let's import the required libraries and create sample data:"
   ]
  },
  {
   "cell_type": "code",
   "execution_count": null,
   "metadata": {},
   "outputs": [],
   "source": [
    "import pandas as pd\n",
    "import pirrtools\n",
    "from rich.console import Console\n",
    "from rich import box\n",
    "import numpy as np\n",
    "\n",
    "# Create console for output\n",
    "console = Console()\n",
    "\n",
    "# Create sample DataFrame\n",
    "df = pd.DataFrame({\n",
    "    'Q1': [100.123, 150.456, 200.789],\n",
    "    'Q2': [120.50, 180.75, 220.25], \n",
    "    'Q3': [140.0, 200.0, 180.0],\n",
    "    'Q4': [160.555, 170.333, 240.111]\n",
    "}, index=['Product A', 'Product B', 'Product C'])\n",
    "\n",
    "print(\"Sample DataFrame:\")\n",
    "df"
   ]
  },
  {
   "cell_type": "markdown",
   "metadata": {},
   "source": [
    "# Basic conversion\n",
    "table = df.pirr.to_rich(title=\"Basic Rich Table\")\n",
    "console.print(table)"
   ]
  },
  {
   "cell_type": "code",
   "execution_count": null,
   "metadata": {},
   "outputs": [],
   "source": [
    "# Basic conversion using to_rich_docs for better documentation display\n",
    "table = df.pirr.to_rich_docs(title=\"Basic Rich Table\", theme=\"dark\")\n",
    "console.print(table)"
   ]
  },
  {
   "cell_type": "markdown",
   "metadata": {},
   "source": [
    "# Background gradient with viridis colormap\n",
    "table = df.pirr.to_rich(\n",
    "    bg=\"viridis\",\n",
    "    title=\"📊 Background Gradient (Viridis)\",\n",
    "    column_header_style=\"bold white on blue\"\n",
    ")\n",
    "console.print(table)"
   ]
  },
  {
   "cell_type": "code",
   "execution_count": null,
   "metadata": {},
   "outputs": [],
   "source": [
    "# Different colormap with axis control\n",
    "table = df.pirr.to_rich(\n",
    "    bg=\"plasma\",\n",
    "    bg_kwargs={\"axis\": 0},  # Column-wise gradient\n",
    "    title=\"🌈 Plasma Gradient (Column-wise)\"\n",
    ")\n",
    "console.print(table)"
   ]
  },
  {
   "cell_type": "markdown",
   "metadata": {},
   "source": [
    "## Text Gradients\n",
    "\n",
    "Apply gradients to the text itself:"
   ]
  },
  {
   "cell_type": "code",
   "execution_count": null,
   "metadata": {},
   "outputs": [],
   "source": [
    "# Text gradient\n",
    "table = df.pirr.to_rich(\n",
    "    tg=\"coolwarm\",\n",
    "    title=\"🎨 Text Gradient (Coolwarm)\",\n",
    "    index_style=\"bold cyan\"\n",
    ")\n",
    "console.print(table)"
   ]
  },
  {
   "cell_type": "markdown",
   "metadata": {},
   "source": [
    "## String Formatting\n",
    "\n",
    "Format numbers and strings using the enhanced format parameter:"
   ]
  },
  {
   "cell_type": "code",
   "execution_count": null,
   "metadata": {},
   "outputs": [],
   "source": [
    "# Different formats for different columns\n",
    "table = df.pirr.to_rich(\n",
    "    format={\n",
    "        'Q1': '${:.0f}',      # Currency format\n",
    "        'Q2': '{:.1f}M',      # Millions format\n",
    "        'Q3': '{:.0f}',       # Integer format\n",
    "        'Q4': '{:.2f}%'       # Percentage format\n",
    "    },\n",
    "    title=\"💰 Custom Number Formatting\"\n",
    ")\n",
    "console.print(table)"
   ]
  },
  {
   "cell_type": "markdown",
   "metadata": {},
   "source": [
    "## Pandas Styler Integration\n",
    "\n",
    "Use existing pandas Styler objects with enhanced to_rich features:"
   ]
  },
  {
   "cell_type": "code",
   "execution_count": null,
   "metadata": {},
   "outputs": [],
   "source": [
    "# Create pandas styler with custom formatting\n",
    "styler = df.style.format({\n",
    "    'Q1': 'Product: {:.1f}',\n",
    "    'Q2': 'Sales: ${:.0f}K',\n",
    "    'Q3': '{:.0f} units'\n",
    "})\n",
    "\n",
    "# Use styler with to_rich\n",
    "table = df.pirr.to_rich(\n",
    "    styler=styler,\n",
    "    title=\"🏭 Pandas Styler Integration\"\n",
    ")\n",
    "console.print(table)"
   ]
  },
  {
   "cell_type": "markdown",
   "metadata": {},
   "source": [
    "## Format Override\n",
    "\n",
    "Override styler formats with the format parameter:"
   ]
  },
  {
   "cell_type": "code",
   "execution_count": null,
   "metadata": {},
   "outputs": [],
   "source": [
    "# Original styler format\n",
    "original_styler = df.style.format({'Q1': 'OLD: {:.1f}', 'Q2': 'KEEP: {:.0f}'})\n",
    "\n",
    "# Override some formats\n",
    "table = df.pirr.to_rich(\n",
    "    styler=original_styler,\n",
    "    format={'Q1': 'NEW: ${:.0f}', 'Q3': 'ADDED: {:.1f}'},  # Overrides Q1, adds Q3\n",
    "    title=\"🔄 Format Override Demo\"\n",
    ")\n",
    "console.print(table)"
   ]
  },
  {
   "cell_type": "markdown",
   "metadata": {},
   "source": [
    "## Alternating Rows\n",
    "\n",
    "Improve readability with alternating row colors:"
   ]
  },
  {
   "cell_type": "code",
   "execution_count": null,
   "metadata": {},
   "outputs": [],
   "source": [
    "# Alternating row colors\n",
    "table = df.pirr.to_rich(\n",
    "    alternating_rows=True,\n",
    "    alternating_row_colors=(\"\", \"on grey11\"),\n",
    "    title=\"📋 Alternating Row Colors\"\n",
    ")\n",
    "console.print(table)"
   ]
  },
  {
   "cell_type": "markdown",
   "metadata": {},
   "source": [
    "## Manual Table Control\n",
    "\n",
    "Override automatic table optimization for custom styling:"
   ]
  },
  {
   "cell_type": "code",
   "execution_count": null,
   "metadata": {},
   "outputs": [],
   "source": [
    "# Manual table settings\n",
    "table = df.pirr.to_rich(\n",
    "    auto_optimize=False,\n",
    "    box=box.DOUBLE,\n",
    "    padding=(1, 2),\n",
    "    show_edge=True,\n",
    "    title=\"⚙️ Manual Table Control\"\n",
    ")\n",
    "console.print(table)"
   ]
  },
  {
   "cell_type": "markdown",
   "metadata": {},
   "source": [
    "## Series Support\n",
    "\n",
    "to_rich also works with pandas Series:"
   ]
  },
  {
   "cell_type": "code",
   "execution_count": null,
   "metadata": {},
   "outputs": [],
   "source": [
    "# Create a Series\n",
    "series = pd.Series([0.123, 0.456, 0.789], \n",
    "                  name='Performance Metrics',\n",
    "                  index=['Accuracy', 'Precision', 'Recall'])\n",
    "\n",
    "# Format the Series\n",
    "table = series.pirr.to_rich(\n",
    "    format='{:.1%}',\n",
    "    title=\"📈 Series with Formatting\",\n",
    "    index_style=\"bold blue\"\n",
    ")\n",
    "console.print(table)"
   ]
  },
  {
   "cell_type": "markdown",
   "metadata": {},
   "source": [
    "## Professional Report Style\n",
    "\n",
    "Combine multiple features for professional-looking reports:"
   ]
  },
  {
   "cell_type": "code",
   "execution_count": null,
   "metadata": {},
   "outputs": [],
   "source": [
    "# Professional styling combining multiple features\n",
    "table = df.pirr.to_rich(\n",
    "    bg=\"viridis\",\n",
    "    format={\n",
    "        'Q1': '${:.0f}K',\n",
    "        'Q2': '${:.0f}K', \n",
    "        'Q3': '${:.0f}K',\n",
    "        'Q4': '${:.0f}K'\n",
    "    },\n",
    "    column_header_style=\"bold white on dark_blue\",\n",
    "    index_header_style=\"bold yellow on dark_red\", \n",
    "    index_style=\"italic cyan\",\n",
    "    alternating_rows=True,\n",
    "    alternating_row_colors=(\"\", \"on grey11\"),\n",
    "    title=\"📊 Quarterly Sales Report - 2024\"\n",
    ")\n",
    "console.print(table)"
   ]
  },
  {
   "cell_type": "markdown",
   "metadata": {},
   "source": [
    "## Large Dataset Example\n",
    "\n",
    "Demonstrate with a larger dataset:"
   ]
  },
  {
   "cell_type": "code",
   "execution_count": null,
   "metadata": {},
   "outputs": [],
   "source": [
    "# Create larger dataset\n",
    "np.random.seed(42)\n",
    "large_df = pd.DataFrame({\n",
    "    'Revenue': np.random.uniform(50000, 200000, 8),\n",
    "    'Profit': np.random.uniform(5000, 50000, 8),\n",
    "    'Growth': np.random.uniform(-0.1, 0.3, 8),\n",
    "    'Market_Share': np.random.uniform(0.05, 0.25, 8)\n",
    "}, index=[f'Region_{i}' for i in range(8)])\n",
    "\n",
    "# Display with comprehensive formatting\n",
    "table = large_df.pirr.to_rich(\n",
    "    bg=\"plasma\",\n",
    "    format={\n",
    "        'Revenue': '${:,.0f}',\n",
    "        'Profit': '${:,.0f}',\n",
    "        'Growth': '{:+.1%}',\n",
    "        'Market_Share': '{:.1%}'\n",
    "    },\n",
    "    title=\"🌍 Regional Performance Dashboard\",\n",
    "    column_header_style=\"bold white on purple\",\n",
    "    show_index=True\n",
    ")\n",
    "console.print(table)"
   ]
  },
  {
   "cell_type": "markdown",
   "metadata": {},
   "source": [
    "## CLI Tutorial Command\n",
    "\n",
    "After installing pirrtools, you can also run an interactive tutorial from the command line:\n",
    "\n",
    "```bash\n",
    "pirrtools-tutorial\n",
    "```\n",
    "\n",
    "This launches a comprehensive interactive tutorial covering all features.\n",
    "\n",
    "## Summary\n",
    "\n",
    "The `to_rich` method provides powerful formatting capabilities:\n",
    "\n",
    "- ✅ **Background & text gradients** for data visualization\n",
    "- ✅ **String formatting** with pandas Styler integration\n",
    "- ✅ **Manual table control** to override automatic optimization\n",
    "- ✅ **Professional styling** options for reports\n",
    "- ✅ **Series support** with all formatting features\n",
    "- ✅ **Easy console output** with Rich integration\n",
    "\n",
    "For more details, see the [documentation](https://pirrtools.readthedocs.io/) and [API reference](https://pirrtools.readthedocs.io/en/latest/api_reference.html)."
   ]
  }
 ],
 "metadata": {
  "kernelspec": {
   "display_name": "Python 3",
   "language": "python",
   "name": "python3"
  },
  "language_info": {
   "codemirror_mode": {
    "name": "ipython",
    "version": 3
   },
   "file_extension": ".py",
   "mimetype": "text/x-python",
   "name": "python",
   "nbconvert_exporter": "python",
   "pygments_lexer": "ipython3",
   "version": "3.11.0"
  }
 },
 "nbformat": 4,
 "nbformat_minor": 4
}
